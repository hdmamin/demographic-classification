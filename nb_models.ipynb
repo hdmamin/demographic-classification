{
 "cells": [
  {
   "cell_type": "code",
   "execution_count": 9,
   "metadata": {
    "ExecuteTime": {
     "end_time": "2019-05-29T06:48:20.779069Z",
     "start_time": "2019-05-29T06:48:20.429821Z"
    }
   },
   "outputs": [],
   "source": [
    "import matplotlib.pyplot as plt\n",
    "import numpy as np\n",
    "import pandas as pd\n",
    "import torch\n",
    "import torch.nn as nn\n",
    "from torch.utils.data import Dataset, DataLoader\n",
    "import torch.nn.functional as F"
   ]
  },
  {
   "cell_type": "code",
   "execution_count": 18,
   "metadata": {
    "ExecuteTime": {
     "end_time": "2019-05-31T07:33:40.377795Z",
     "start_time": "2019-05-31T07:33:39.061013Z"
    }
   },
   "outputs": [],
   "source": [
    "class BiLSTM(nn.Module):\n",
    "    \n",
    "    def __init__(self, emb, hidden_dim):\n",
    "        super().__init__()\n",
    "        self.emb = nn.Embedding(*emb.shape)\n",
    "        self.emb.weight.data.copy_(torch.from_numpy(emb))\n",
    "        self.lstm = nn.LSTM()\n",
    "        \n",
    "    def forward(self, x):\n",
    "        return x\n",
    "    \n",
    "    def dims(self):\n",
    "        \"\"\"Get shape of each layer's weights.\"\"\"\n",
    "        return [p.shape for p in self.parameters()]\n",
    "    \n",
    "    def trainable(self):\n",
    "        \"\"\"Check which layers are trainable.\"\"\"\n",
    "        return [p.requires_grad for p in self.parameters()]\n",
    "    \n",
    "    def layer_stats(self):\n",
    "        \"\"\"Check mean and standard deviation of each layer's weights.\"\"\"\n",
    "        return [(round(p.data.mean().item(), 3), \n",
    "                 round(p.data.std().item(), 3))\n",
    "                 for p in self.parameters()]"
   ]
  },
  {
   "cell_type": "code",
   "execution_count": 15,
   "metadata": {
    "ExecuteTime": {
     "end_time": "2019-05-29T06:54:35.850433Z",
     "start_time": "2019-05-29T06:54:35.846374Z"
    }
   },
   "outputs": [],
   "source": [
    "def train(model, lr, epochs):\n",
    "    optim = torch.optim.Adam(model.parameters(), lr=lr)"
   ]
  },
  {
   "cell_type": "code",
   "execution_count": 7,
   "metadata": {
    "ExecuteTime": {
     "end_time": "2019-05-29T06:47:24.796524Z",
     "start_time": "2019-05-29T06:47:24.792773Z"
    }
   },
   "outputs": [],
   "source": [
    "def val_metrics():\n",
    "    pass"
   ]
  },
  {
   "cell_type": "code",
   "execution_count": 14,
   "metadata": {
    "ExecuteTime": {
     "end_time": "2019-05-29T06:49:55.354130Z",
     "start_time": "2019-05-29T06:49:55.347943Z"
    }
   },
   "outputs": [],
   "source": [
    "def plot_losses(train_losses, val_losses):\n",
    "    \"\"\"Plot loss by epoch for train and validation sets. Parameters should be \n",
    "    returned by the training loop.\n",
    "    \n",
    "    Parameters\n",
    "    -----------\n",
    "    train_losses: list\n",
    "    val_losses: list\n",
    "    \"\"\"\n",
    "    fig, ax = plt.subplots()\n",
    "    ax.plot(train_losses, c='blue', label='train')\n",
    "    ax.plot(val_losses, c='orange', label='validation')\n",
    "    plt.xlim(0, len(train_losses)-1)\n",
    "    plt.xlabel('Epoch')\n",
    "    plt.ylabel('Loss')\n",
    "    plt.legend()\n",
    "    plt.title('Loss by Epoch')\n",
    "    plt.show()"
   ]
  },
  {
   "cell_type": "code",
   "execution_count": null,
   "metadata": {},
   "outputs": [],
   "source": []
  }
 ],
 "metadata": {
  "kernelspec": {
   "display_name": "Python 3",
   "language": "python",
   "name": "python3"
  },
  "language_info": {
   "codemirror_mode": {
    "name": "ipython",
    "version": 3
   },
   "file_extension": ".py",
   "mimetype": "text/x-python",
   "name": "python",
   "nbconvert_exporter": "python",
   "pygments_lexer": "ipython3",
   "version": "3.7.1"
  }
 },
 "nbformat": 4,
 "nbformat_minor": 2
}
