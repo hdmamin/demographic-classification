{
 "cells": [
  {
   "cell_type": "code",
   "execution_count": 25,
   "metadata": {
    "ExecuteTime": {
     "end_time": "2019-06-03T06:29:38.014525Z",
     "start_time": "2019-06-03T06:29:38.010468Z"
    }
   },
   "outputs": [],
   "source": [
    "from bs4 import BeautifulSoup\n",
    "import gc\n",
    "from nltk.tokenize import sent_tokenize\n",
    "import numpy as np\n",
    "import os\n",
    "import pandas as pd\n",
    "from pathlib import Path\n",
    "from pprint import pprint"
   ]
  },
  {
   "cell_type": "code",
   "execution_count": 2,
   "metadata": {
    "ExecuteTime": {
     "end_time": "2019-06-03T05:06:48.115668Z",
     "start_time": "2019-06-03T05:06:48.108778Z"
    }
   },
   "outputs": [],
   "source": [
    "def get_paths(dirname):\n",
    "    \"\"\"Return list of paths a given directory.\n",
    "\n",
    "    Parameters\n",
    "    ----------\n",
    "    dirname: str\n",
    "\n",
    "    Returns\n",
    "    -------\n",
    "    List of path objects.\n",
    "    \"\"\"\n",
    "    return list(Path(dirname).iterdir())"
   ]
  },
  {
   "cell_type": "code",
   "execution_count": 44,
   "metadata": {
    "ExecuteTime": {
     "end_time": "2019-06-03T06:42:31.029843Z",
     "start_time": "2019-06-03T06:42:31.022208Z"
    }
   },
   "outputs": [],
   "source": [
    "def get_text(path):\n",
    "    \"\"\"Read in xml file, extract relevant info, and return a dataframe.\n",
    "\n",
    "    Parameters\n",
    "    ----------\n",
    "    path: pathlib.Path\n",
    "        Specify which file to read in. Includes the name of the directory\n",
    "        as well as the file.\n",
    "\n",
    "    Returns\n",
    "    -------\n",
    "    pd.DataFrame containing a row for each sentence. There are also label \n",
    "    columns with age and sex.\n",
    "    \"\"\"\n",
    "    sex, age = path.parts[-1].split('.')[1:3]\n",
    "    with open(path, 'r', encoding='latin1') as f:\n",
    "        soup = BeautifulSoup(f, 'xml')\n",
    "    posts = [t.text.replace('\\n', ' ').replace('\\t', ' ').strip() \n",
    "             for t in soup.find_all('post')]\n",
    "    sentences = [s for s in sent_tokenize(' '.join(posts))]\n",
    "    return pd.DataFrame(dict(text=sentences, sex=sex, age=int(age)))"
   ]
  },
  {
   "cell_type": "code",
   "execution_count": 80,
   "metadata": {
    "ExecuteTime": {
     "end_time": "2019-06-03T07:02:33.220652Z",
     "start_time": "2019-06-03T07:02:33.215928Z"
    }
   },
   "outputs": [
    {
     "data": {
      "text/plain": [
       "19320"
      ]
     },
     "execution_count": 80,
     "metadata": {},
     "output_type": "execute_result"
    }
   ],
   "source": [
    "output_dir = 'data'\n",
    "paths = get_paths('blogs')\n",
    "len(paths)"
   ]
  },
  {
   "cell_type": "code",
   "execution_count": 63,
   "metadata": {
    "ExecuteTime": {
     "end_time": "2019-06-03T06:54:19.399160Z",
     "start_time": "2019-06-03T06:47:15.159017Z"
    }
   },
   "outputs": [],
   "source": [
    "dfs = [get_text(path) for path in paths]"
   ]
  },
  {
   "cell_type": "code",
   "execution_count": 65,
   "metadata": {
    "ExecuteTime": {
     "end_time": "2019-06-03T06:57:26.021645Z",
     "start_time": "2019-06-03T06:57:18.884565Z"
    }
   },
   "outputs": [],
   "source": [
    "df = pd.concat(dfs, axis=0).reset_index(drop=True)"
   ]
  },
  {
   "cell_type": "code",
   "execution_count": 66,
   "metadata": {
    "ExecuteTime": {
     "end_time": "2019-06-03T06:57:31.643098Z",
     "start_time": "2019-06-03T06:57:30.261973Z"
    }
   },
   "outputs": [
    {
     "data": {
      "text/plain": [
       "text    0\n",
       "sex     0\n",
       "age     0\n",
       "dtype: int64"
      ]
     },
     "execution_count": 66,
     "metadata": {},
     "output_type": "execute_result"
    }
   ],
   "source": [
    "df.isnull().sum()"
   ]
  },
  {
   "cell_type": "code",
   "execution_count": 67,
   "metadata": {
    "ExecuteTime": {
     "end_time": "2019-06-03T06:57:37.145402Z",
     "start_time": "2019-06-03T06:57:36.893744Z"
    }
   },
   "outputs": [
    {
     "data": {
      "text/plain": [
       "count    8.730028e+06\n",
       "mean     2.422944e+01\n",
       "std      7.861914e+00\n",
       "min      1.300000e+01\n",
       "25%      1.700000e+01\n",
       "50%      2.400000e+01\n",
       "75%      2.700000e+01\n",
       "max      4.800000e+01\n",
       "Name: age, dtype: float64"
      ]
     },
     "execution_count": 67,
     "metadata": {},
     "output_type": "execute_result"
    }
   ],
   "source": [
    "df.age.describe()"
   ]
  },
  {
   "cell_type": "code",
   "execution_count": 68,
   "metadata": {
    "ExecuteTime": {
     "end_time": "2019-06-03T06:58:09.506122Z",
     "start_time": "2019-06-03T06:58:08.846290Z"
    }
   },
   "outputs": [
    {
     "data": {
      "text/plain": [
       "female    0.522576\n",
       "male      0.477424\n",
       "Name: sex, dtype: float64"
      ]
     },
     "execution_count": 68,
     "metadata": {},
     "output_type": "execute_result"
    }
   ],
   "source": [
    "df.sex.value_counts(normalize=True)"
   ]
  },
  {
   "cell_type": "code",
   "execution_count": 69,
   "metadata": {
    "ExecuteTime": {
     "end_time": "2019-06-03T06:58:11.354911Z",
     "start_time": "2019-06-03T06:58:11.347979Z"
    }
   },
   "outputs": [
    {
     "data": {
      "text/plain": [
       "text    object\n",
       "sex     object\n",
       "age      int64\n",
       "dtype: object"
      ]
     },
     "execution_count": 69,
     "metadata": {},
     "output_type": "execute_result"
    }
   ],
   "source": [
    "df.dtypes"
   ]
  },
  {
   "cell_type": "code",
   "execution_count": 70,
   "metadata": {
    "ExecuteTime": {
     "end_time": "2019-06-03T06:58:22.393773Z",
     "start_time": "2019-06-03T06:58:19.943041Z"
    }
   },
   "outputs": [
    {
     "data": {
      "text/plain": [
       "0.00        1.0\n",
       "0.10       16.0\n",
       "0.25       33.0\n",
       "0.50       62.0\n",
       "0.75      105.0\n",
       "0.90      159.0\n",
       "0.95      206.0\n",
       "0.99      374.0\n",
       "1.00    43280.0\n",
       "Name: text, dtype: float64"
      ]
     },
     "execution_count": 70,
     "metadata": {},
     "output_type": "execute_result"
    }
   ],
   "source": [
    "df.text.str.len().quantile([0, .1, .25, .5, .75, .9, .95, .99, 1])"
   ]
  },
  {
   "cell_type": "code",
   "execution_count": 78,
   "metadata": {
    "ExecuteTime": {
     "end_time": "2019-06-03T07:01:30.047816Z",
     "start_time": "2019-06-03T07:00:55.399866Z"
    }
   },
   "outputs": [],
   "source": [
    "if not os.path.exists(output_dir):\n",
    "    os.mkdir(output_dir)\n",
    "df.to_csv('data/sentences.csv', index=False)"
   ]
  }
 ],
 "metadata": {
  "kernelspec": {
   "display_name": "Python 3",
   "language": "python",
   "name": "python3"
  },
  "language_info": {
   "codemirror_mode": {
    "name": "ipython",
    "version": 3
   },
   "file_extension": ".py",
   "mimetype": "text/x-python",
   "name": "python",
   "nbconvert_exporter": "python",
   "pygments_lexer": "ipython3",
   "version": "3.7.1"
  }
 },
 "nbformat": 4,
 "nbformat_minor": 2
}
