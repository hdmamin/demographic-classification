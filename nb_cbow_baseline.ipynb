{
 "cells": [
  {
   "cell_type": "code",
   "execution_count": 2,
   "metadata": {
    "ExecuteTime": {
     "end_time": "2019-06-04T18:31:35.414754Z",
     "start_time": "2019-06-04T18:31:33.754312Z"
    }
   },
   "outputs": [],
   "source": [
    "import matplotlib.pyplot as plt\n",
    "import numpy as np\n",
    "import pandas as pd\n",
    "import torch\n",
    "import torch.nn as nn\n",
    "from torch.utils.data import Dataset, DataLoader\n",
    "import torch.nn.functional as F"
   ]
  },
  {
   "cell_type": "code",
   "execution_count": 19,
   "metadata": {
    "ExecuteTime": {
     "end_time": "2019-06-05T03:41:18.081513Z",
     "start_time": "2019-06-05T03:41:17.978203Z"
    }
   },
   "outputs": [],
   "source": [
    "class BaseModel(nn.Module):\n",
    "    \n",
    "    def __init__(self):\n",
    "        super().__init__()\n",
    "        \n",
    "    def dims(self):\n",
    "        \"\"\"Get shape of each layer's weights.\"\"\"\n",
    "        return [p.shape for p in self.parameters()]\n",
    "    \n",
    "    def trainable(self):\n",
    "        \"\"\"Check which layers are trainable.\"\"\"\n",
    "        return [p.requires_grad for p in self.parameters()]\n",
    "    \n",
    "    def layer_stats(self):\n",
    "        \"\"\"Check mean and standard deviation of each layer's weights.\"\"\"\n",
    "        return [(round(p.data.mean().item(), 3), \n",
    "                 round(p.data.std().item(), 3))\n",
    "                 for p in self.parameters()]"
   ]
  },
  {
   "cell_type": "code",
   "execution_count": 4,
   "metadata": {
    "ExecuteTime": {
     "end_time": "2019-06-04T18:31:48.183072Z",
     "start_time": "2019-06-04T18:31:48.180084Z"
    }
   },
   "outputs": [],
   "source": [
    "mod = Model()"
   ]
  },
  {
   "cell_type": "code",
   "execution_count": 24,
   "metadata": {
    "ExecuteTime": {
     "end_time": "2019-06-05T03:47:05.731276Z",
     "start_time": "2019-06-05T03:47:05.723696Z"
    }
   },
   "outputs": [],
   "source": [
    "class GenderCBow(BaseModel):\n",
    "    \n",
    "    def __init__(self, vocab_size, hidden_dim):\n",
    "        super().__init__()\n",
    "        self.vocab_size = vocab_size\n",
    "        self.fc1 = nn.Linear(vocab_size, hidden_dim)\n",
    "        self.fc2 = nn.Linear(hidden_dim, 1)\n",
    "        \n",
    "    def forward(self, x):\n",
    "        x = F.relu(self.fc1(x))\n",
    "        return self.fc2(x)"
   ]
  },
  {
   "cell_type": "code",
   "execution_count": 26,
   "metadata": {
    "ExecuteTime": {
     "end_time": "2019-06-05T03:47:29.044601Z",
     "start_time": "2019-06-05T03:47:29.025096Z"
    }
   },
   "outputs": [
    {
     "ename": "NameError",
     "evalue": "name 'w2idx' is not defined",
     "output_type": "error",
     "traceback": [
      "\u001b[0;31m---------------------------------------------------------------------------\u001b[0m",
      "\u001b[0;31mNameError\u001b[0m                                 Traceback (most recent call last)",
      "\u001b[0;32m<ipython-input-26-730468634e7a>\u001b[0m in \u001b[0;36m<module>\u001b[0;34m\u001b[0m\n\u001b[0;32m----> 1\u001b[0;31m \u001b[0mcb\u001b[0m \u001b[0;34m=\u001b[0m \u001b[0mCBow\u001b[0m\u001b[0;34m(\u001b[0m\u001b[0mlen\u001b[0m\u001b[0;34m(\u001b[0m\u001b[0mw2idx\u001b[0m\u001b[0;34m)\u001b[0m\u001b[0;34m,\u001b[0m \u001b[0;36m100\u001b[0m\u001b[0;34m)\u001b[0m\u001b[0;34m\u001b[0m\u001b[0;34m\u001b[0m\u001b[0m\n\u001b[0m",
      "\u001b[0;31mNameError\u001b[0m: name 'w2idx' is not defined"
     ]
    }
   ],
   "source": [
    "cb = CBow(len(w2idx), 100)"
   ]
  },
  {
   "cell_type": "code",
   "execution_count": 13,
   "metadata": {
    "ExecuteTime": {
     "end_time": "2019-06-04T18:34:28.084431Z",
     "start_time": "2019-06-04T18:34:28.078912Z"
    }
   },
   "outputs": [
    {
     "data": {
      "text/plain": [
       "[True, True, True]"
      ]
     },
     "execution_count": 13,
     "metadata": {},
     "output_type": "execute_result"
    }
   ],
   "source": [
    "cb.trainable()"
   ]
  },
  {
   "cell_type": "code",
   "execution_count": 20,
   "metadata": {
    "ExecuteTime": {
     "end_time": "2019-06-05T03:41:31.737050Z",
     "start_time": "2019-06-05T03:41:31.726494Z"
    }
   },
   "outputs": [],
   "source": [
    "class BiLSTM(BaseModel):\n",
    "    \n",
    "    def __init__(self, emb, hidden_dim):\n",
    "        super().__init__()\n",
    "        self.emb = nn.Embedding(*emb.shape)\n",
    "        self.emb.weight.data.copy_(torch.from_numpy(emb))\n",
    "        self.lstm = nn.LSTM()\n",
    "        \n",
    "    def forward(self, x):\n",
    "        return x"
   ]
  },
  {
   "cell_type": "code",
   "execution_count": 15,
   "metadata": {
    "ExecuteTime": {
     "end_time": "2019-05-29T06:54:35.850433Z",
     "start_time": "2019-05-29T06:54:35.846374Z"
    }
   },
   "outputs": [],
   "source": [
    "def train(model, lr, epochs):\n",
    "    optim = torch.optim.Adam(model.parameters(), lr=lr)"
   ]
  },
  {
   "cell_type": "code",
   "execution_count": 7,
   "metadata": {
    "ExecuteTime": {
     "end_time": "2019-05-29T06:47:24.796524Z",
     "start_time": "2019-05-29T06:47:24.792773Z"
    }
   },
   "outputs": [],
   "source": [
    "def val_metrics():\n",
    "    pass"
   ]
  },
  {
   "cell_type": "code",
   "execution_count": 14,
   "metadata": {
    "ExecuteTime": {
     "end_time": "2019-05-29T06:49:55.354130Z",
     "start_time": "2019-05-29T06:49:55.347943Z"
    }
   },
   "outputs": [],
   "source": [
    "def plot_losses(train_losses, val_losses):\n",
    "    \"\"\"Plot loss by epoch for train and validation sets. Parameters should be \n",
    "    returned by the training loop.\n",
    "    \n",
    "    Parameters\n",
    "    -----------\n",
    "    train_losses: list\n",
    "    val_losses: list\n",
    "    \"\"\"\n",
    "    fig, ax = plt.subplots()\n",
    "    ax.plot(train_losses, c='blue', label='train')\n",
    "    ax.plot(val_losses, c='orange', label='validation')\n",
    "    plt.xlim(0, len(train_losses)-1)\n",
    "    plt.xlabel('Epoch')\n",
    "    plt.ylabel('Loss')\n",
    "    plt.legend()\n",
    "    plt.title('Loss by Epoch')\n",
    "    plt.show()"
   ]
  },
  {
   "cell_type": "code",
   "execution_count": null,
   "metadata": {},
   "outputs": [],
   "source": []
  }
 ],
 "metadata": {
  "kernelspec": {
   "display_name": "Python 3",
   "language": "python",
   "name": "python3"
  },
  "language_info": {
   "codemirror_mode": {
    "name": "ipython",
    "version": 3
   },
   "file_extension": ".py",
   "mimetype": "text/x-python",
   "name": "python",
   "nbconvert_exporter": "python",
   "pygments_lexer": "ipython3",
   "version": "3.7.1"
  }
 },
 "nbformat": 4,
 "nbformat_minor": 2
}
