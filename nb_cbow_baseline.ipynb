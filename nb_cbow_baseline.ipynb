{
 "cells": [
  {
   "cell_type": "code",
   "execution_count": 345,
   "metadata": {
    "ExecuteTime": {
     "end_time": "2019-06-06T05:42:53.769126Z",
     "start_time": "2019-06-06T05:42:44.787324Z"
    }
   },
   "outputs": [],
   "source": [
    "from collections import defaultdict\n",
    "import gc\n",
    "import numpy as np\n",
    "import matplotlib.pyplot as plt\n",
    "import spacy\n",
    "import torch\n",
    "import torch.nn as nn\n",
    "import torch.nn.functional as F\n",
    "from torch.utils.data import Dataset, DataLoader\n",
    "\n",
    "from utils import save_pickle, load_pickle"
   ]
  },
  {
   "cell_type": "code",
   "execution_count": 397,
   "metadata": {
    "ExecuteTime": {
     "end_time": "2019-06-06T07:25:49.083466Z",
     "start_time": "2019-06-06T07:25:49.070632Z"
    }
   },
   "outputs": [],
   "source": [
    "class BlogDataset(Dataset):\n",
    "\n",
    "    def __init__(self, x, y, vocab_size, cbow=False, max_len=None):\n",
    "        \"\"\"\n",
    "        Parameters\n",
    "        -----------\n",
    "        x: pd.Series\n",
    "            One of the outputs containing features from our \n",
    "            train_val_test_split().\n",
    "        y: pd.DataFrame\n",
    "            One of the outputs containing labels from our \n",
    "            train_val_test_split(). The first column contains gender \n",
    "            (0=female, 1=male) while the second column contains age.\n",
    "        vocab_size: int\n",
    "            Number of words in our vocabulary. We use w2idx for this, not \n",
    "            w2vec, since we may want to train embeddings for the words not\n",
    "            in the GloVe vectors.\n",
    "        cbow: bool\n",
    "            If True, this assumes the dataset will be used with a CBOW model\n",
    "            where word order doesn't matter. It will encode the x vector to \n",
    "            contain counts of word appearances in the sentence but will not\n",
    "            retain anything about the temporal structure of the data. If \n",
    "            False, we return x as a vector of glove indices in the order the\n",
    "            words appear in the sentence.\n",
    "        \"\"\"\n",
    "        super().__init__()\n",
    "        self.x = x\n",
    "        self.y = y.values.astype(np.float32)\n",
    "        self.cbow = cbow\n",
    "        self.vocab_size = vocab_size\n",
    "        self.max_len = max_len\n",
    "        \n",
    "    def __getitem__(self, i):\n",
    "        \"\"\"The CBOW model is just used as a simple baseline for gender \n",
    "        classification, so only the first column of y is needed in that case.\n",
    "        \"\"\"\n",
    "        x, y = encode(self.x[i], w2idx, nlp), self.y[i]\n",
    "        if self.cbow:\n",
    "            x = count_encode(x, self.vocab_size)\n",
    "            y = y[0]\n",
    "        return x, y\n",
    "    \n",
    "    def __len__(self):\n",
    "        if self.max_len:\n",
    "            return self.max_len\n",
    "        return self.x.shape[0]"
   ]
  },
  {
   "cell_type": "code",
   "execution_count": 398,
   "metadata": {
    "ExecuteTime": {
     "end_time": "2019-06-06T07:25:49.944223Z",
     "start_time": "2019-06-06T07:25:49.935402Z"
    }
   },
   "outputs": [],
   "source": [
    "def encode(text, w2idx, nlp):\n",
    "    \"\"\"Map each word in a post to its index in the embedding matrix. Posts\n",
    "    retain their original lengths for now.\n",
    "    \"\"\"\n",
    "    unk = w2idx['<UNK>']\n",
    "    return [w2idx.get(word.text, unk) \n",
    "            for word in nlp(text, disable=['parser', 'tagger', 'ner'])]"
   ]
  },
  {
   "cell_type": "code",
   "execution_count": 399,
   "metadata": {
    "ExecuteTime": {
     "end_time": "2019-06-06T07:25:50.201321Z",
     "start_time": "2019-06-06T07:25:50.193283Z"
    }
   },
   "outputs": [],
   "source": [
    "def count_encode(idx_encoded, vocab_size):\n",
    "    \"\"\"Convert a vector of glove indices into a vector with the same length\n",
    "    as our vocabulary. Each number will contain the count of the times that\n",
    "    the corresponding word appeared in the original sentence. \n",
    "    \n",
    "    Parameters\n",
    "    -----------\n",
    "    idx_encoded: np.ndarray\n",
    "        Array of glove indices for a single sentence, with one number for each\n",
    "        word.\n",
    "    vocab_size: int\n",
    "        Number of words in our vocabulary.\n",
    "    \"\"\"\n",
    "    vec = np.zeros(vocab_size)\n",
    "    for idx in idx_encoded:\n",
    "        vec[idx] += 1\n",
    "    return vec.astype(np.float32)"
   ]
  },
  {
   "cell_type": "code",
   "execution_count": 392,
   "metadata": {
    "ExecuteTime": {
     "end_time": "2019-06-06T07:24:04.397650Z",
     "start_time": "2019-06-06T07:23:59.102324Z"
    }
   },
   "outputs": [
    {
     "data": {
      "text/plain": [
       "((7035676,), (35533, 2), (35535,))"
      ]
     },
     "execution_count": 392,
     "metadata": {},
     "output_type": "execute_result"
    }
   ],
   "source": [
    "w2count = load_pickle('w2count')\n",
    "w2idx = load_pickle('w2idx')\n",
    "w2vec = load_pickle('w2vec')\n",
    "i2w = load_pickle('i2w')\n",
    "x_train, x_val, x_test, y_train, y_val, y_test = load_pickle('split_data')\n",
    "\n",
    "x_train.shape, y_val.shape, x_test.shape"
   ]
  },
  {
   "cell_type": "code",
   "execution_count": 393,
   "metadata": {
    "ExecuteTime": {
     "end_time": "2019-06-06T07:24:18.260764Z",
     "start_time": "2019-06-06T07:24:18.219044Z"
    }
   },
   "outputs": [],
   "source": [
    "bs = 64\n",
    "workers = 2\n",
    "ngpu = 1\n",
    "lr = 3e-3\n",
    "vocab_size = len(w2idx)\n",
    "device = torch.device('cuda:0' if torch.cuda.is_available() and ngpu > 0 \n",
    "                      else 'cpu')"
   ]
  },
  {
   "cell_type": "code",
   "execution_count": 42,
   "metadata": {
    "ExecuteTime": {
     "end_time": "2019-06-04T07:19:49.701777Z",
     "start_time": "2019-06-04T07:19:48.491333Z"
    }
   },
   "outputs": [],
   "source": [
    "nlp = spacy.load('en_core_web_sm')"
   ]
  },
  {
   "cell_type": "markdown",
   "metadata": {},
   "source": [
    "## Models"
   ]
  },
  {
   "cell_type": "code",
   "execution_count": 154,
   "metadata": {
    "ExecuteTime": {
     "end_time": "2019-06-05T03:47:53.275840Z",
     "start_time": "2019-06-05T03:47:53.200037Z"
    }
   },
   "outputs": [],
   "source": [
    "class BaseModel(nn.Module):\n",
    "    \n",
    "    def __init__(self):\n",
    "        super().__init__()\n",
    "        \n",
    "    def dims(self):\n",
    "        \"\"\"Get shape of each layer's weights.\"\"\"\n",
    "        return [p.shape for p in self.parameters()]\n",
    "    \n",
    "    def trainable(self):\n",
    "        \"\"\"Check which layers are trainable.\"\"\"\n",
    "        return [p.requires_grad for p in self.parameters()]\n",
    "    \n",
    "    def layer_stats(self):\n",
    "        \"\"\"Check mean and standard deviation of each layer's weights.\"\"\"\n",
    "        return [(round(p.data.mean().item(), 3), \n",
    "                 round(p.data.std().item(), 3))\n",
    "                 for p in self.parameters()]"
   ]
  },
  {
   "cell_type": "code",
   "execution_count": 155,
   "metadata": {
    "ExecuteTime": {
     "end_time": "2019-06-05T03:48:04.755366Z",
     "start_time": "2019-06-05T03:48:04.738827Z"
    }
   },
   "outputs": [],
   "source": [
    "class GenderCBow(BaseModel):\n",
    "    \n",
    "    def __init__(self, vocab_size, hidden_dim):\n",
    "        super().__init__()\n",
    "        self.vocab_size = vocab_size\n",
    "        self.fc1 = nn.Linear(vocab_size, hidden_dim)\n",
    "        self.fc2 = nn.Linear(hidden_dim, 1)\n",
    "        \n",
    "    def forward(self, x):\n",
    "        x = F.relu(self.fc1(x))\n",
    "        return self.fc2(x)"
   ]
  },
  {
   "cell_type": "markdown",
   "metadata": {},
   "source": [
    "## Training"
   ]
  },
  {
   "cell_type": "code",
   "execution_count": 321,
   "metadata": {
    "ExecuteTime": {
     "end_time": "2019-06-05T06:01:56.811544Z",
     "start_time": "2019-06-05T06:01:56.806436Z"
    }
   },
   "outputs": [],
   "source": [
    "def correct(y_hat, y, reduction, sigmoid=True):\n",
    "    \"\"\"Calculate the accuracy if reduction='mean' or the total correct if \n",
    "    reduction='sum'.\n",
    "    \n",
    "    y_hat: torch.tensor\n",
    "        2D tensor of predictions.\n",
    "    y: torch.tensor\n",
    "        2D tensor of labels.\n",
    "    reduction: str\n",
    "        'sum' or 'mean'\n",
    "    sigmoid: bool\n",
    "        If True, apply sigmoid before calculating number correct.\n",
    "    \"\"\"\n",
    "    with torch.no_grad():\n",
    "        if sigmoid:\n",
    "            y_hat = torch.sigmoid(y_hat)\n",
    "        correct = torch.round(y_hat).eq(y).float()\n",
    "        if reduction == 'sum':\n",
    "            return torch.sum(correct).item()\n",
    "        elif reduction == 'mean':\n",
    "            return torch.mean(correct).item()"
   ]
  },
  {
   "cell_type": "code",
   "execution_count": 332,
   "metadata": {
    "ExecuteTime": {
     "end_time": "2019-06-05T06:58:20.302459Z",
     "start_time": "2019-06-05T06:58:20.295032Z"
    }
   },
   "outputs": [],
   "source": [
    "def val_metrics(model, val_dl):\n",
    "    \"\"\"Return validation loss and accuracy.\"\"\"\n",
    "    stats = defaultdict(int)\n",
    "    with torch.no_grad():\n",
    "        for x, y in val_dl:\n",
    "            x = x.to(device)\n",
    "            y = y.unsqueeze(-1).to(device)\n",
    "            batch_size = x.shape[0]\n",
    "            y_hat = model(x)\n",
    "            loss = F.binary_cross_entropy_with_logits(y_hat, y, \n",
    "                                                      reduction='sum')\n",
    "            \n",
    "            # Update stats at end of batch.\n",
    "            stats['loss'] += loss\n",
    "            stats['total'] += batch_size\n",
    "            stats['correct'] += correct(y_hat, y, 'sum', sigmoid=True)\n",
    "\n",
    "    return stats['loss'] / stats['total'], stats['correct'] / stats['total']"
   ]
  },
  {
   "cell_type": "code",
   "execution_count": 430,
   "metadata": {
    "ExecuteTime": {
     "end_time": "2019-06-06T07:53:05.855163Z",
     "start_time": "2019-06-06T07:53:05.842348Z"
    }
   },
   "outputs": [],
   "source": [
    "def train(epochs, train_dl, val_dl, lr=3e-3, model=None, optim=None, dim=100):\n",
    "    \"\"\"Train with Adam optimizer.\"\"\"\n",
    "    if not model:\n",
    "        model = GenderCBow(vocab_size, dim)\n",
    "        optim = torch.optim.Adam(model.parameters(), lr)\n",
    "    \n",
    "    # Store stats to return at end.\n",
    "    stats = defaultdict(list)\n",
    "    \n",
    "    # Begin training loop.\n",
    "    for epoch in range(epochs):\n",
    "        e_stats = defaultdict(int)\n",
    "        model.train()\n",
    "        \n",
    "        # Loop through mini batches.\n",
    "        for i, (x, y) in enumerate(train_dl, 1):\n",
    "            x = x.to(device)\n",
    "            y = y.unsqueeze(-1).to(device)\n",
    "            batch_size = x.shape[0]\n",
    "            \n",
    "            # Forward and backward pass.\n",
    "            optim.zero_grad()\n",
    "            y_hat = model(x)\n",
    "            loss = F.binary_cross_entropy_with_logits(y_hat, y, \n",
    "                                                      reduction='mean')\n",
    "            loss.backward()\n",
    "            optim.step()\n",
    "            \n",
    "            # Update stats at end of batch.\n",
    "            e_stats['train_loss'] += loss.item() * batch_size\n",
    "            e_stats['total'] += batch_size\n",
    "            e_stats['correct'] += correct(y_hat, y, reduction='sum')\n",
    "            \n",
    "            if i % 100 == 0:\n",
    "                print(f'loss (mini batch {i}): {(loss / batch_size):.3f}')\n",
    "            \n",
    "        # Update stats at end of epoch.\n",
    "        e_stats['val_loss'], e_stats['val_acc'] = val_metrics(model, val_dl)\n",
    "        e_stats['train_acc'] = e_stats['correct'] / e_stats['total']\n",
    "        e_stats['train_loss'] = e_stats['train_loss'] / e_stats['total']\n",
    "        \n",
    "        # Update stats at end of epoch.   \n",
    "        for key in ('train_loss', 'train_acc', 'val_loss', 'val_acc'):\n",
    "            stats[key].append(e_stats[key])\n",
    "\n",
    "        print(f\"\\nEpoch [{epoch+1}/{epochs}]\"\n",
    "              f\"\\nTrain loss: {e_stats['train_loss']:.3f}\"\n",
    "              f\"\\tTrain acc: {e_stats['train_acc']:.3f}\"\n",
    "              f\"\\nValidation loss: {e_stats['val_loss']:.3f}\"\n",
    "              f\"\\tValidation acc: {e_stats['val_acc']:.3f}\"\n",
    "             )\n",
    "\n",
    "    return dict(model=model, optim=optim, stats=stats)"
   ]
  },
  {
   "cell_type": "code",
   "execution_count": 431,
   "metadata": {
    "ExecuteTime": {
     "end_time": "2019-06-06T07:53:06.720213Z",
     "start_time": "2019-06-06T07:53:06.713144Z"
    }
   },
   "outputs": [],
   "source": [
    "def plot_output(output):\n",
    "    \"\"\"Plot loss by epoch for train and validation sets. Parameters should be \n",
    "    returned by the training loop.\n",
    "    \n",
    "    Parameters\n",
    "    -----------\n",
    "    output: dict\n",
    "        Dict returned by train(). Contains defaultdict with stats.\n",
    "    \"\"\"\n",
    "    stats = output['stats']\n",
    "    fig, ax = plt.subplots()\n",
    "    ax.plot(stats['train_loss'], label='train')\n",
    "    ax.plot(stats['val_loss'], label='validation')\n",
    "    plt.xlim(0, len(stats['train_loss'])-1)\n",
    "    plt.xlabel('Epoch')\n",
    "    plt.ylabel('Loss')\n",
    "    plt.legend()\n",
    "    plt.title('Loss by Epoch')\n",
    "    plt.show()"
   ]
  },
  {
   "cell_type": "code",
   "execution_count": 432,
   "metadata": {
    "ExecuteTime": {
     "end_time": "2019-06-06T07:53:07.200802Z",
     "start_time": "2019-06-06T07:53:07.074344Z"
    }
   },
   "outputs": [],
   "source": [
    "ds_train = BlogDataset(x_train, y_train, len(w2idx), cbow=True, \n",
    "                       max_len=100_000)\n",
    "ds_val = BlogDataset(x_val, y_val, len(w2idx), cbow=True, max_len=5_000)"
   ]
  },
  {
   "cell_type": "code",
   "execution_count": 433,
   "metadata": {
    "ExecuteTime": {
     "end_time": "2019-06-06T07:53:07.628036Z",
     "start_time": "2019-06-06T07:53:07.616592Z"
    }
   },
   "outputs": [],
   "source": [
    "train_dl = DataLoader(ds_train, batch_size=bs, shuffle=True, \n",
    "                      num_workers=workers)\n",
    "val_dl = DataLoader(ds_val, batch_size=bs, shuffle=False, num_workers=workers)"
   ]
  },
  {
   "cell_type": "code",
   "execution_count": 434,
   "metadata": {
    "ExecuteTime": {
     "end_time": "2019-06-06T07:53:08.938248Z",
     "start_time": "2019-06-06T07:53:08.269330Z"
    }
   },
   "outputs": [
    {
     "data": {
      "text/plain": [
       "(torch.Size([64, 193800]), torch.Size([64]))"
      ]
     },
     "execution_count": 434,
     "metadata": {},
     "output_type": "execute_result"
    }
   ],
   "source": [
    "x1, y1 = next(iter(train_dl))\n",
    "x1.shape, y1.shape"
   ]
  },
  {
   "cell_type": "code",
   "execution_count": 435,
   "metadata": {
    "ExecuteTime": {
     "end_time": "2019-06-06T07:53:09.649338Z",
     "start_time": "2019-06-06T07:53:09.641777Z"
    }
   },
   "outputs": [
    {
     "data": {
      "text/plain": [
       "1563"
      ]
     },
     "execution_count": 435,
     "metadata": {},
     "output_type": "execute_result"
    }
   ],
   "source": [
    "len(train_dl)"
   ]
  },
  {
   "cell_type": "code",
   "execution_count": 436,
   "metadata": {
    "ExecuteTime": {
     "end_time": "2019-06-06T09:28:51.865107Z",
     "start_time": "2019-06-06T07:53:21.946698Z"
    }
   },
   "outputs": [
    {
     "name": "stdout",
     "output_type": "stream",
     "text": [
      "loss (mini batch 100): 0.011\n",
      "loss (mini batch 200): 0.011\n",
      "loss (mini batch 300): 0.010\n",
      "loss (mini batch 400): 0.010\n",
      "loss (mini batch 500): 0.010\n",
      "loss (mini batch 600): 0.011\n",
      "loss (mini batch 700): 0.010\n",
      "loss (mini batch 800): 0.011\n",
      "loss (mini batch 900): 0.010\n",
      "loss (mini batch 1000): 0.011\n",
      "loss (mini batch 1100): 0.011\n",
      "loss (mini batch 1200): 0.010\n",
      "loss (mini batch 1300): 0.010\n",
      "loss (mini batch 1400): 0.010\n",
      "loss (mini batch 1500): 0.010\n",
      "\n",
      "Epoch [1/10]\n",
      "Train loss: 0.671\tTrain acc: 0.584\n",
      "Validation loss: 0.670\tValidation acc: 0.589\n",
      "loss (mini batch 100): 0.009\n",
      "loss (mini batch 200): 0.009\n",
      "loss (mini batch 300): 0.010\n",
      "loss (mini batch 400): 0.009\n",
      "loss (mini batch 500): 0.009\n",
      "loss (mini batch 600): 0.009\n",
      "loss (mini batch 700): 0.010\n",
      "loss (mini batch 800): 0.008\n",
      "loss (mini batch 900): 0.010\n",
      "loss (mini batch 1000): 0.010\n",
      "loss (mini batch 1100): 0.009\n",
      "loss (mini batch 1200): 0.008\n",
      "loss (mini batch 1300): 0.009\n",
      "loss (mini batch 1400): 0.009\n",
      "loss (mini batch 1500): 0.009\n",
      "\n",
      "Epoch [2/10]\n",
      "Train loss: 0.579\tTrain acc: 0.686\n",
      "Validation loss: 0.707\tValidation acc: 0.592\n",
      "loss (mini batch 100): 0.006\n",
      "loss (mini batch 200): 0.007\n",
      "loss (mini batch 300): 0.005\n",
      "loss (mini batch 400): 0.005\n",
      "loss (mini batch 500): 0.004\n",
      "loss (mini batch 600): 0.004\n",
      "loss (mini batch 700): 0.006\n",
      "loss (mini batch 800): 0.006\n",
      "loss (mini batch 900): 0.005\n",
      "loss (mini batch 1000): 0.006\n",
      "loss (mini batch 1100): 0.006\n",
      "loss (mini batch 1200): 0.006\n",
      "loss (mini batch 1300): 0.005\n",
      "loss (mini batch 1400): 0.006\n",
      "loss (mini batch 1500): 0.005\n",
      "\n",
      "Epoch [3/10]\n",
      "Train loss: 0.373\tTrain acc: 0.827\n",
      "Validation loss: 0.934\tValidation acc: 0.577\n",
      "loss (mini batch 100): 0.003\n",
      "loss (mini batch 200): 0.003\n",
      "loss (mini batch 300): 0.002\n",
      "loss (mini batch 400): 0.002\n",
      "loss (mini batch 500): 0.003\n",
      "loss (mini batch 600): 0.003\n",
      "loss (mini batch 700): 0.002\n",
      "loss (mini batch 800): 0.003\n",
      "loss (mini batch 900): 0.004\n",
      "loss (mini batch 1000): 0.003\n",
      "loss (mini batch 1100): 0.002\n",
      "loss (mini batch 1200): 0.003\n",
      "loss (mini batch 1300): 0.003\n",
      "loss (mini batch 1400): 0.002\n",
      "loss (mini batch 1500): 0.002\n",
      "\n",
      "Epoch [4/10]\n",
      "Train loss: 0.179\tTrain acc: 0.929\n",
      "Validation loss: 1.276\tValidation acc: 0.566\n",
      "loss (mini batch 100): 0.001\n",
      "loss (mini batch 200): 0.001\n",
      "loss (mini batch 300): 0.001\n",
      "loss (mini batch 400): 0.001\n",
      "loss (mini batch 500): 0.001\n",
      "loss (mini batch 600): 0.001\n",
      "loss (mini batch 700): 0.001\n",
      "loss (mini batch 800): 0.001\n",
      "loss (mini batch 900): 0.001\n",
      "loss (mini batch 1000): 0.001\n",
      "loss (mini batch 1100): 0.001\n",
      "loss (mini batch 1200): 0.001\n",
      "loss (mini batch 1300): 0.002\n",
      "loss (mini batch 1400): 0.001\n",
      "loss (mini batch 1500): 0.002\n",
      "\n",
      "Epoch [5/10]\n",
      "Train loss: 0.085\tTrain acc: 0.971\n",
      "Validation loss: 1.634\tValidation acc: 0.571\n",
      "loss (mini batch 100): 0.001\n",
      "loss (mini batch 200): 0.000\n",
      "loss (mini batch 300): 0.001\n",
      "loss (mini batch 400): 0.001\n",
      "loss (mini batch 500): 0.001\n",
      "loss (mini batch 600): 0.001\n",
      "loss (mini batch 700): 0.000\n",
      "loss (mini batch 800): 0.000\n",
      "loss (mini batch 900): 0.000\n",
      "loss (mini batch 1000): 0.001\n",
      "loss (mini batch 1100): 0.000\n",
      "loss (mini batch 1200): 0.001\n",
      "loss (mini batch 1300): 0.001\n",
      "loss (mini batch 1400): 0.001\n",
      "loss (mini batch 1500): 0.001\n",
      "\n",
      "Epoch [6/10]\n",
      "Train loss: 0.053\tTrain acc: 0.986\n",
      "Validation loss: 1.876\tValidation acc: 0.567\n",
      "loss (mini batch 100): 0.000\n",
      "loss (mini batch 200): 0.001\n",
      "loss (mini batch 300): 0.001\n",
      "loss (mini batch 400): 0.000\n",
      "loss (mini batch 500): 0.000\n",
      "loss (mini batch 600): 0.000\n",
      "loss (mini batch 700): 0.000\n",
      "loss (mini batch 800): 0.001\n",
      "loss (mini batch 900): 0.000\n",
      "loss (mini batch 1000): 0.000\n",
      "loss (mini batch 1100): 0.001\n",
      "loss (mini batch 1200): 0.000\n",
      "loss (mini batch 1300): 0.001\n",
      "loss (mini batch 1400): 0.000\n",
      "loss (mini batch 1500): 0.000\n",
      "\n",
      "Epoch [7/10]\n",
      "Train loss: 0.030\tTrain acc: 0.993\n",
      "Validation loss: 2.191\tValidation acc: 0.570\n",
      "loss (mini batch 100): 0.001\n",
      "loss (mini batch 200): 0.000\n",
      "loss (mini batch 300): 0.000\n",
      "loss (mini batch 400): 0.000\n",
      "loss (mini batch 500): 0.000\n",
      "loss (mini batch 600): 0.000\n",
      "loss (mini batch 700): 0.000\n",
      "loss (mini batch 800): 0.000\n",
      "loss (mini batch 900): 0.000\n",
      "loss (mini batch 1000): 0.000\n",
      "loss (mini batch 1100): 0.000\n",
      "loss (mini batch 1200): 0.000\n",
      "loss (mini batch 1300): 0.000\n",
      "loss (mini batch 1400): 0.000\n",
      "loss (mini batch 1500): 0.000\n",
      "\n",
      "Epoch [8/10]\n",
      "Train loss: 0.023\tTrain acc: 0.995\n",
      "Validation loss: 2.354\tValidation acc: 0.572\n",
      "loss (mini batch 100): 0.000\n",
      "loss (mini batch 200): 0.000\n",
      "loss (mini batch 300): 0.000\n",
      "loss (mini batch 400): 0.000\n",
      "loss (mini batch 500): 0.000\n",
      "loss (mini batch 600): 0.000\n",
      "loss (mini batch 700): 0.000\n",
      "loss (mini batch 800): 0.000\n",
      "loss (mini batch 900): 0.000\n",
      "loss (mini batch 1000): 0.000\n",
      "loss (mini batch 1100): 0.000\n",
      "loss (mini batch 1200): 0.000\n",
      "loss (mini batch 1300): 0.000\n",
      "loss (mini batch 1400): 0.000\n",
      "loss (mini batch 1500): 0.000\n",
      "\n",
      "Epoch [9/10]\n",
      "Train loss: 0.019\tTrain acc: 0.996\n",
      "Validation loss: 2.550\tValidation acc: 0.568\n",
      "loss (mini batch 100): 0.000\n",
      "loss (mini batch 200): 0.000\n",
      "loss (mini batch 300): 0.000\n",
      "loss (mini batch 400): 0.000\n",
      "loss (mini batch 500): 0.000\n",
      "loss (mini batch 600): 0.000\n",
      "loss (mini batch 700): 0.000\n",
      "loss (mini batch 800): 0.000\n",
      "loss (mini batch 900): 0.000\n",
      "loss (mini batch 1000): 0.000\n",
      "loss (mini batch 1100): 0.000\n",
      "loss (mini batch 1200): 0.000\n",
      "loss (mini batch 1300): 0.000\n",
      "loss (mini batch 1400): 0.000\n",
      "loss (mini batch 1500): 0.000\n",
      "\n",
      "Epoch [10/10]\n",
      "Train loss: 0.018\tTrain acc: 0.997\n",
      "Validation loss: 2.618\tValidation acc: 0.574\n"
     ]
    }
   ],
   "source": [
    "epochs = 10\n",
    "output = train(epochs, train_dl, val_dl)"
   ]
  },
  {
   "cell_type": "code",
   "execution_count": 437,
   "metadata": {
    "ExecuteTime": {
     "end_time": "2019-06-06T16:36:32.139039Z",
     "start_time": "2019-06-06T16:36:31.254178Z"
    }
   },
   "outputs": [
    {
     "data": {
      "image/png": "[encoded data removed]",
      "text/plain": [
       "<Figure size 432x288 with 1 Axes>"
      ]
     },
     "metadata": {
      "needs_background": "light"
     },
     "output_type": "display_data"
    }
   ],
   "source": [
    "plot_output(output)"
   ]
  },
  {
   "cell_type": "code",
   "execution_count": 404,
   "metadata": {
    "ExecuteTime": {
     "end_time": "2019-06-06T07:42:19.476821Z",
     "start_time": "2019-06-06T07:26:11.659153Z"
    }
   },
   "outputs": [
    {
     "ename": "KeyboardInterrupt",
     "evalue": "",
     "output_type": "error",
     "traceback": [
      "\u001b[0;31m---------------------------------------------------------------------------\u001b[0m",
      "\u001b[0;31mKeyboardInterrupt\u001b[0m                         Traceback (most recent call last)",
      "\u001b[0;32m<ipython-input-404-f2f02dd7c1c1>\u001b[0m in \u001b[0;36m<module>\u001b[0;34m\u001b[0m\n\u001b[0;32m----> 1\u001b[0;31m \u001b[0moutput_2\u001b[0m \u001b[0;34m=\u001b[0m \u001b[0mtrain\u001b[0m\u001b[0;34m(\u001b[0m\u001b[0;36m10\u001b[0m\u001b[0;34m,\u001b[0m \u001b[0mtrain_dl\u001b[0m\u001b[0;34m,\u001b[0m \u001b[0mval_dl\u001b[0m\u001b[0;34m,\u001b[0m \u001b[0mdim\u001b[0m\u001b[0;34m=\u001b[0m\u001b[0;36m10\u001b[0m\u001b[0;34m)\u001b[0m\u001b[0;34m\u001b[0m\u001b[0;34m\u001b[0m\u001b[0m\n\u001b[0m",
      "\u001b[0;32m<ipython-input-359-f21276319723>\u001b[0m in \u001b[0;36mtrain\u001b[0;34m(epochs, train_dl, val_dl, lr, model, optim, dim)\u001b[0m\n\u001b[1;32m     33\u001b[0m \u001b[0;34m\u001b[0m\u001b[0m\n\u001b[1;32m     34\u001b[0m         \u001b[0;31m# Update stats at end of epoch.\u001b[0m\u001b[0;34m\u001b[0m\u001b[0;34m\u001b[0m\u001b[0;34m\u001b[0m\u001b[0m\n\u001b[0;32m---> 35\u001b[0;31m         \u001b[0me_stats\u001b[0m\u001b[0;34m[\u001b[0m\u001b[0;34m'val_loss'\u001b[0m\u001b[0;34m]\u001b[0m\u001b[0;34m,\u001b[0m \u001b[0me_stats\u001b[0m\u001b[0;34m[\u001b[0m\u001b[0;34m'val_acc'\u001b[0m\u001b[0;34m]\u001b[0m \u001b[0;34m=\u001b[0m \u001b[0mval_metrics\u001b[0m\u001b[0;34m(\u001b[0m\u001b[0mmodel\u001b[0m\u001b[0;34m,\u001b[0m \u001b[0mval_dl\u001b[0m\u001b[0;34m)\u001b[0m\u001b[0;34m\u001b[0m\u001b[0;34m\u001b[0m\u001b[0m\n\u001b[0m\u001b[1;32m     36\u001b[0m         \u001b[0me_stats\u001b[0m\u001b[0;34m[\u001b[0m\u001b[0;34m'train_acc'\u001b[0m\u001b[0;34m]\u001b[0m \u001b[0;34m=\u001b[0m \u001b[0me_stats\u001b[0m\u001b[0;34m[\u001b[0m\u001b[0;34m'correct'\u001b[0m\u001b[0;34m]\u001b[0m \u001b[0;34m/\u001b[0m \u001b[0me_stats\u001b[0m\u001b[0;34m[\u001b[0m\u001b[0;34m'total'\u001b[0m\u001b[0;34m]\u001b[0m\u001b[0;34m\u001b[0m\u001b[0;34m\u001b[0m\u001b[0m\n\u001b[1;32m     37\u001b[0m         \u001b[0me_stats\u001b[0m\u001b[0;34m[\u001b[0m\u001b[0;34m'train_loss'\u001b[0m\u001b[0;34m]\u001b[0m \u001b[0;34m=\u001b[0m \u001b[0me_stats\u001b[0m\u001b[0;34m[\u001b[0m\u001b[0;34m'train_loss'\u001b[0m\u001b[0;34m]\u001b[0m \u001b[0;34m/\u001b[0m \u001b[0me_stats\u001b[0m\u001b[0;34m[\u001b[0m\u001b[0;34m'total'\u001b[0m\u001b[0;34m]\u001b[0m\u001b[0;34m\u001b[0m\u001b[0;34m\u001b[0m\u001b[0m\n",
      "\u001b[0;32m<ipython-input-332-5bab3e2f6b45>\u001b[0m in \u001b[0;36mval_metrics\u001b[0;34m(model, val_dl)\u001b[0m\n\u001b[1;32m      3\u001b[0m     \u001b[0mstats\u001b[0m \u001b[0;34m=\u001b[0m \u001b[0mdefaultdict\u001b[0m\u001b[0;34m(\u001b[0m\u001b[0mint\u001b[0m\u001b[0;34m)\u001b[0m\u001b[0;34m\u001b[0m\u001b[0;34m\u001b[0m\u001b[0m\n\u001b[1;32m      4\u001b[0m     \u001b[0;32mwith\u001b[0m \u001b[0mtorch\u001b[0m\u001b[0;34m.\u001b[0m\u001b[0mno_grad\u001b[0m\u001b[0;34m(\u001b[0m\u001b[0;34m)\u001b[0m\u001b[0;34m:\u001b[0m\u001b[0;34m\u001b[0m\u001b[0;34m\u001b[0m\u001b[0m\n\u001b[0;32m----> 5\u001b[0;31m         \u001b[0;32mfor\u001b[0m \u001b[0mx\u001b[0m\u001b[0;34m,\u001b[0m \u001b[0my\u001b[0m \u001b[0;32min\u001b[0m \u001b[0mval_dl\u001b[0m\u001b[0;34m:\u001b[0m\u001b[0;34m\u001b[0m\u001b[0;34m\u001b[0m\u001b[0m\n\u001b[0m\u001b[1;32m      6\u001b[0m             \u001b[0mx\u001b[0m \u001b[0;34m=\u001b[0m \u001b[0mx\u001b[0m\u001b[0;34m.\u001b[0m\u001b[0mto\u001b[0m\u001b[0;34m(\u001b[0m\u001b[0mdevice\u001b[0m\u001b[0;34m)\u001b[0m\u001b[0;34m\u001b[0m\u001b[0;34m\u001b[0m\u001b[0m\n\u001b[1;32m      7\u001b[0m             \u001b[0my\u001b[0m \u001b[0;34m=\u001b[0m \u001b[0my\u001b[0m\u001b[0;34m.\u001b[0m\u001b[0munsqueeze\u001b[0m\u001b[0;34m(\u001b[0m\u001b[0;34m-\u001b[0m\u001b[0;36m1\u001b[0m\u001b[0;34m)\u001b[0m\u001b[0;34m.\u001b[0m\u001b[0mto\u001b[0m\u001b[0;34m(\u001b[0m\u001b[0mdevice\u001b[0m\u001b[0;34m)\u001b[0m\u001b[0;34m\u001b[0m\u001b[0;34m\u001b[0m\u001b[0m\n",
      "\u001b[0;32m/anaconda3/envs/fastai-env/lib/python3.7/site-packages/torch/utils/data/dataloader.py\u001b[0m in \u001b[0;36m__next__\u001b[0;34m(self)\u001b[0m\n\u001b[1;32m    629\u001b[0m         \u001b[0;32mwhile\u001b[0m \u001b[0;32mTrue\u001b[0m\u001b[0;34m:\u001b[0m\u001b[0;34m\u001b[0m\u001b[0;34m\u001b[0m\u001b[0m\n\u001b[1;32m    630\u001b[0m             \u001b[0;32massert\u001b[0m \u001b[0;34m(\u001b[0m\u001b[0;32mnot\u001b[0m \u001b[0mself\u001b[0m\u001b[0;34m.\u001b[0m\u001b[0mshutdown\u001b[0m \u001b[0;32mand\u001b[0m \u001b[0mself\u001b[0m\u001b[0;34m.\u001b[0m\u001b[0mbatches_outstanding\u001b[0m \u001b[0;34m>\u001b[0m \u001b[0;36m0\u001b[0m\u001b[0;34m)\u001b[0m\u001b[0;34m\u001b[0m\u001b[0;34m\u001b[0m\u001b[0m\n\u001b[0;32m--> 631\u001b[0;31m             \u001b[0midx\u001b[0m\u001b[0;34m,\u001b[0m \u001b[0mbatch\u001b[0m \u001b[0;34m=\u001b[0m \u001b[0mself\u001b[0m\u001b[0;34m.\u001b[0m\u001b[0m_get_batch\u001b[0m\u001b[0;34m(\u001b[0m\u001b[0;34m)\u001b[0m\u001b[0;34m\u001b[0m\u001b[0;34m\u001b[0m\u001b[0m\n\u001b[0m\u001b[1;32m    632\u001b[0m             \u001b[0mself\u001b[0m\u001b[0;34m.\u001b[0m\u001b[0mbatches_outstanding\u001b[0m \u001b[0;34m-=\u001b[0m \u001b[0;36m1\u001b[0m\u001b[0;34m\u001b[0m\u001b[0;34m\u001b[0m\u001b[0m\n\u001b[1;32m    633\u001b[0m             \u001b[0;32mif\u001b[0m \u001b[0midx\u001b[0m \u001b[0;34m!=\u001b[0m \u001b[0mself\u001b[0m\u001b[0;34m.\u001b[0m\u001b[0mrcvd_idx\u001b[0m\u001b[0;34m:\u001b[0m\u001b[0;34m\u001b[0m\u001b[0;34m\u001b[0m\u001b[0m\n",
      "\u001b[0;32m/anaconda3/envs/fastai-env/lib/python3.7/site-packages/torch/utils/data/dataloader.py\u001b[0m in \u001b[0;36m_get_batch\u001b[0;34m(self)\u001b[0m\n\u001b[1;32m    608\u001b[0m             \u001b[0;31m# need to call `.task_done()` because we don't use `.join()`.\u001b[0m\u001b[0;34m\u001b[0m\u001b[0;34m\u001b[0m\u001b[0;34m\u001b[0m\u001b[0m\n\u001b[1;32m    609\u001b[0m         \u001b[0;32melse\u001b[0m\u001b[0;34m:\u001b[0m\u001b[0;34m\u001b[0m\u001b[0;34m\u001b[0m\u001b[0m\n\u001b[0;32m--> 610\u001b[0;31m             \u001b[0;32mreturn\u001b[0m \u001b[0mself\u001b[0m\u001b[0;34m.\u001b[0m\u001b[0mdata_queue\u001b[0m\u001b[0;34m.\u001b[0m\u001b[0mget\u001b[0m\u001b[0;34m(\u001b[0m\u001b[0;34m)\u001b[0m\u001b[0;34m\u001b[0m\u001b[0;34m\u001b[0m\u001b[0m\n\u001b[0m\u001b[1;32m    611\u001b[0m \u001b[0;34m\u001b[0m\u001b[0m\n\u001b[1;32m    612\u001b[0m     \u001b[0;32mdef\u001b[0m \u001b[0m__next__\u001b[0m\u001b[0;34m(\u001b[0m\u001b[0mself\u001b[0m\u001b[0;34m)\u001b[0m\u001b[0;34m:\u001b[0m\u001b[0;34m\u001b[0m\u001b[0;34m\u001b[0m\u001b[0m\n",
      "\u001b[0;32m/anaconda3/envs/fastai-env/lib/python3.7/multiprocessing/queues.py\u001b[0m in \u001b[0;36mget\u001b[0;34m(self, block, timeout)\u001b[0m\n\u001b[1;32m     92\u001b[0m         \u001b[0;32mif\u001b[0m \u001b[0mblock\u001b[0m \u001b[0;32mand\u001b[0m \u001b[0mtimeout\u001b[0m \u001b[0;32mis\u001b[0m \u001b[0;32mNone\u001b[0m\u001b[0;34m:\u001b[0m\u001b[0;34m\u001b[0m\u001b[0;34m\u001b[0m\u001b[0m\n\u001b[1;32m     93\u001b[0m             \u001b[0;32mwith\u001b[0m \u001b[0mself\u001b[0m\u001b[0;34m.\u001b[0m\u001b[0m_rlock\u001b[0m\u001b[0;34m:\u001b[0m\u001b[0;34m\u001b[0m\u001b[0;34m\u001b[0m\u001b[0m\n\u001b[0;32m---> 94\u001b[0;31m                 \u001b[0mres\u001b[0m \u001b[0;34m=\u001b[0m \u001b[0mself\u001b[0m\u001b[0;34m.\u001b[0m\u001b[0m_recv_bytes\u001b[0m\u001b[0;34m(\u001b[0m\u001b[0;34m)\u001b[0m\u001b[0;34m\u001b[0m\u001b[0;34m\u001b[0m\u001b[0m\n\u001b[0m\u001b[1;32m     95\u001b[0m             \u001b[0mself\u001b[0m\u001b[0;34m.\u001b[0m\u001b[0m_sem\u001b[0m\u001b[0;34m.\u001b[0m\u001b[0mrelease\u001b[0m\u001b[0;34m(\u001b[0m\u001b[0;34m)\u001b[0m\u001b[0;34m\u001b[0m\u001b[0;34m\u001b[0m\u001b[0m\n\u001b[1;32m     96\u001b[0m         \u001b[0;32melse\u001b[0m\u001b[0;34m:\u001b[0m\u001b[0;34m\u001b[0m\u001b[0;34m\u001b[0m\u001b[0m\n",
      "\u001b[0;32m/anaconda3/envs/fastai-env/lib/python3.7/multiprocessing/connection.py\u001b[0m in \u001b[0;36mrecv_bytes\u001b[0;34m(self, maxlength)\u001b[0m\n\u001b[1;32m    214\u001b[0m         \u001b[0;32mif\u001b[0m \u001b[0mmaxlength\u001b[0m \u001b[0;32mis\u001b[0m \u001b[0;32mnot\u001b[0m \u001b[0;32mNone\u001b[0m \u001b[0;32mand\u001b[0m \u001b[0mmaxlength\u001b[0m \u001b[0;34m<\u001b[0m \u001b[0;36m0\u001b[0m\u001b[0;34m:\u001b[0m\u001b[0;34m\u001b[0m\u001b[0;34m\u001b[0m\u001b[0m\n\u001b[1;32m    215\u001b[0m             \u001b[0;32mraise\u001b[0m \u001b[0mValueError\u001b[0m\u001b[0;34m(\u001b[0m\u001b[0;34m\"negative maxlength\"\u001b[0m\u001b[0;34m)\u001b[0m\u001b[0;34m\u001b[0m\u001b[0;34m\u001b[0m\u001b[0m\n\u001b[0;32m--> 216\u001b[0;31m         \u001b[0mbuf\u001b[0m \u001b[0;34m=\u001b[0m \u001b[0mself\u001b[0m\u001b[0;34m.\u001b[0m\u001b[0m_recv_bytes\u001b[0m\u001b[0;34m(\u001b[0m\u001b[0mmaxlength\u001b[0m\u001b[0;34m)\u001b[0m\u001b[0;34m\u001b[0m\u001b[0;34m\u001b[0m\u001b[0m\n\u001b[0m\u001b[1;32m    217\u001b[0m         \u001b[0;32mif\u001b[0m \u001b[0mbuf\u001b[0m \u001b[0;32mis\u001b[0m \u001b[0;32mNone\u001b[0m\u001b[0;34m:\u001b[0m\u001b[0;34m\u001b[0m\u001b[0;34m\u001b[0m\u001b[0m\n\u001b[1;32m    218\u001b[0m             \u001b[0mself\u001b[0m\u001b[0;34m.\u001b[0m\u001b[0m_bad_message_length\u001b[0m\u001b[0;34m(\u001b[0m\u001b[0;34m)\u001b[0m\u001b[0;34m\u001b[0m\u001b[0;34m\u001b[0m\u001b[0m\n",
      "\u001b[0;32m/anaconda3/envs/fastai-env/lib/python3.7/multiprocessing/connection.py\u001b[0m in \u001b[0;36m_recv_bytes\u001b[0;34m(self, maxsize)\u001b[0m\n\u001b[1;32m    405\u001b[0m \u001b[0;34m\u001b[0m\u001b[0m\n\u001b[1;32m    406\u001b[0m     \u001b[0;32mdef\u001b[0m \u001b[0m_recv_bytes\u001b[0m\u001b[0;34m(\u001b[0m\u001b[0mself\u001b[0m\u001b[0;34m,\u001b[0m \u001b[0mmaxsize\u001b[0m\u001b[0;34m=\u001b[0m\u001b[0;32mNone\u001b[0m\u001b[0;34m)\u001b[0m\u001b[0;34m:\u001b[0m\u001b[0;34m\u001b[0m\u001b[0;34m\u001b[0m\u001b[0m\n\u001b[0;32m--> 407\u001b[0;31m         \u001b[0mbuf\u001b[0m \u001b[0;34m=\u001b[0m \u001b[0mself\u001b[0m\u001b[0;34m.\u001b[0m\u001b[0m_recv\u001b[0m\u001b[0;34m(\u001b[0m\u001b[0;36m4\u001b[0m\u001b[0;34m)\u001b[0m\u001b[0;34m\u001b[0m\u001b[0;34m\u001b[0m\u001b[0m\n\u001b[0m\u001b[1;32m    408\u001b[0m         \u001b[0msize\u001b[0m\u001b[0;34m,\u001b[0m \u001b[0;34m=\u001b[0m \u001b[0mstruct\u001b[0m\u001b[0;34m.\u001b[0m\u001b[0munpack\u001b[0m\u001b[0;34m(\u001b[0m\u001b[0;34m\"!i\"\u001b[0m\u001b[0;34m,\u001b[0m \u001b[0mbuf\u001b[0m\u001b[0;34m.\u001b[0m\u001b[0mgetvalue\u001b[0m\u001b[0;34m(\u001b[0m\u001b[0;34m)\u001b[0m\u001b[0;34m)\u001b[0m\u001b[0;34m\u001b[0m\u001b[0;34m\u001b[0m\u001b[0m\n\u001b[1;32m    409\u001b[0m         \u001b[0;32mif\u001b[0m \u001b[0mmaxsize\u001b[0m \u001b[0;32mis\u001b[0m \u001b[0;32mnot\u001b[0m \u001b[0;32mNone\u001b[0m \u001b[0;32mand\u001b[0m \u001b[0msize\u001b[0m \u001b[0;34m>\u001b[0m \u001b[0mmaxsize\u001b[0m\u001b[0;34m:\u001b[0m\u001b[0;34m\u001b[0m\u001b[0;34m\u001b[0m\u001b[0m\n",
      "\u001b[0;32m/anaconda3/envs/fastai-env/lib/python3.7/multiprocessing/connection.py\u001b[0m in \u001b[0;36m_recv\u001b[0;34m(self, size, read)\u001b[0m\n\u001b[1;32m    377\u001b[0m         \u001b[0mremaining\u001b[0m \u001b[0;34m=\u001b[0m \u001b[0msize\u001b[0m\u001b[0;34m\u001b[0m\u001b[0;34m\u001b[0m\u001b[0m\n\u001b[1;32m    378\u001b[0m         \u001b[0;32mwhile\u001b[0m \u001b[0mremaining\u001b[0m \u001b[0;34m>\u001b[0m \u001b[0;36m0\u001b[0m\u001b[0;34m:\u001b[0m\u001b[0;34m\u001b[0m\u001b[0;34m\u001b[0m\u001b[0m\n\u001b[0;32m--> 379\u001b[0;31m             \u001b[0mchunk\u001b[0m \u001b[0;34m=\u001b[0m \u001b[0mread\u001b[0m\u001b[0;34m(\u001b[0m\u001b[0mhandle\u001b[0m\u001b[0;34m,\u001b[0m \u001b[0mremaining\u001b[0m\u001b[0;34m)\u001b[0m\u001b[0;34m\u001b[0m\u001b[0;34m\u001b[0m\u001b[0m\n\u001b[0m\u001b[1;32m    380\u001b[0m             \u001b[0mn\u001b[0m \u001b[0;34m=\u001b[0m \u001b[0mlen\u001b[0m\u001b[0;34m(\u001b[0m\u001b[0mchunk\u001b[0m\u001b[0;34m)\u001b[0m\u001b[0;34m\u001b[0m\u001b[0;34m\u001b[0m\u001b[0m\n\u001b[1;32m    381\u001b[0m             \u001b[0;32mif\u001b[0m \u001b[0mn\u001b[0m \u001b[0;34m==\u001b[0m \u001b[0;36m0\u001b[0m\u001b[0;34m:\u001b[0m\u001b[0;34m\u001b[0m\u001b[0;34m\u001b[0m\u001b[0m\n",
      "\u001b[0;31mKeyboardInterrupt\u001b[0m: "
     ]
    }
   ],
   "source": [
    "output_2 = train(10, train_dl, val_dl, dim=10)"
   ]
  },
  {
   "cell_type": "code",
   "execution_count": 369,
   "metadata": {
    "ExecuteTime": {
     "end_time": "2019-06-06T06:07:00.196039Z",
     "start_time": "2019-06-06T06:06:59.974401Z"
    }
   },
   "outputs": [
    {
     "data": {
      "image/png": "[encoded data removed]",
      "text/plain": [
       "<Figure size 432x288 with 1 Axes>"
      ]
     },
     "metadata": {
      "needs_background": "light"
     },
     "output_type": "display_data"
    }
   ],
   "source": [
    "plot_output(output_2)"
   ]
  },
  {
   "cell_type": "markdown",
   "metadata": {},
   "source": [
    "I started by fitting a simple count-based variation of the continuous bag of words model, which discards the temporal nature of the data. I will not use any tricks, add any dropout or batch norm layers, or spend much time tuning hyperparameters here as the goal is not to optimize performance. I simply want to get a quick baseline of how well a basic model does on the problem. To reduce training time, I also started with a small subset of the data and slowly increased it to see if this would help with overfitting."
   ]
  }
 ],
 "metadata": {
  "kernelspec": {
   "display_name": "Python 3",
   "language": "python",
   "name": "python3"
  },
  "language_info": {
   "codemirror_mode": {
    "name": "ipython",
    "version": 3
   },
   "file_extension": ".py",
   "mimetype": "text/x-python",
   "name": "python",
   "nbconvert_exporter": "python",
   "pygments_lexer": "ipython3",
   "version": "3.7.1"
  }
 },
 "nbformat": 4,
 "nbformat_minor": 2
}
